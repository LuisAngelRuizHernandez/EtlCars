{
  "nbformat": 4,
  "nbformat_minor": 0,
  "metadata": {
    "colab": {
      "provenance": []
    },
    "kernelspec": {
      "name": "python3",
      "display_name": "Python 3"
    },
    "language_info": {
      "name": "python"
    }
  },
  "cells": [
    {
      "cell_type": "code",
      "execution_count": 1,
      "metadata": {
        "id": "ZSCmQklSqajp",
        "colab": {
          "base_uri": "https://localhost:8080/"
        },
        "outputId": "dbf95cfe-42d4-4778-c7d4-075beb85a898"
      },
      "outputs": [
        {
          "output_type": "stream",
          "name": "stdout",
          "text": [
            "Requirement already satisfied: pyspark in /usr/local/lib/python3.10/dist-packages (3.5.3)\n",
            "Requirement already satisfied: py4j==0.10.9.7 in /usr/local/lib/python3.10/dist-packages (from pyspark) (0.10.9.7)\n"
          ]
        }
      ],
      "source": [
        "!pip install pyspark"
      ]
    },
    {
      "cell_type": "code",
      "source": [
        "!apt-get install openjdk-8-jdk-headless -qq > /dev/null"
      ],
      "metadata": {
        "id": "epsPcCvvOWcs"
      },
      "execution_count": 2,
      "outputs": []
    },
    {
      "cell_type": "markdown",
      "source": [
        "SESION DE SPARK"
      ],
      "metadata": {
        "id": "JFTmDmDjSdIM"
      }
    },
    {
      "cell_type": "code",
      "source": [
        "from pyspark.sql import SparkSession\n",
        "from pyspark import SparkContext\n",
        "\n",
        "session = SparkSession \\\n",
        "          .builder \\\n",
        "          .appName(\"Demo Spark\") \\\n",
        "          .getOrCreate()\n",
        "\n",
        "sc = session.sparkContext"
      ],
      "metadata": {
        "id": "KSG3WMOFOYiA"
      },
      "execution_count": 3,
      "outputs": []
    },
    {
      "cell_type": "markdown",
      "source": [
        "CARGA DE DATOS"
      ],
      "metadata": {
        "id": "5lN05qebS6Jp"
      }
    },
    {
      "cell_type": "code",
      "source": [
        "df_cars = session.read.option('header', 'true') \\\n",
        "    .option('sep', ';') \\\n",
        "    .csv('./data/cars.csv')"
      ],
      "metadata": {
        "id": "OJKGJzq9S7Qp"
      },
      "execution_count": 4,
      "outputs": []
    },
    {
      "cell_type": "code",
      "source": [
        "# conociendo la data\n",
        "df_cars.show(5)"
      ],
      "metadata": {
        "colab": {
          "base_uri": "https://localhost:8080/"
        },
        "id": "LsNnZ-Gc8SXm",
        "outputId": "551b0cf0-c85e-4d01-a144-09abda555659"
      },
      "execution_count": 5,
      "outputs": [
        {
          "output_type": "stream",
          "name": "stdout",
          "text": [
            "+--------------------+----+---------+------------+----------+------+------------+-----+------+\n",
            "|                 Car| MPG|Cylinders|Displacement|Horsepower|Weight|Acceleration|Model|Origin|\n",
            "+--------------------+----+---------+------------+----------+------+------------+-----+------+\n",
            "|Chevrolet Chevell...|18.0|        8|       307.0|     130.0| 3504.|        12.0|   70|    US|\n",
            "|   Buick Skylark 320|15.0|        8|       350.0|     165.0| 3693.|        11.5|   70|    US|\n",
            "|  Plymouth Satellite|18.0|        8|       318.0|     150.0| 3436.|        11.0|   70|    US|\n",
            "|       AMC Rebel SST|16.0|        8|       304.0|     150.0| 3433.|        12.0|   70|    US|\n",
            "|         Ford Torino|17.0|        8|       302.0|     140.0| 3449.|        10.5|   70|    US|\n",
            "+--------------------+----+---------+------------+----------+------+------------+-----+------+\n",
            "only showing top 5 rows\n",
            "\n"
          ]
        }
      ]
    },
    {
      "cell_type": "markdown",
      "source": [
        "LIMPIEZA DE DATOS"
      ],
      "metadata": {
        "id": "BA3Zqg758iO5"
      }
    },
    {
      "cell_type": "markdown",
      "source": [
        "1. eliminamos filas duplicadas"
      ],
      "metadata": {
        "id": "_vW7Y3Le8q6c"
      }
    },
    {
      "cell_type": "code",
      "source": [
        "df_cars.count()"
      ],
      "metadata": {
        "colab": {
          "base_uri": "https://localhost:8080/"
        },
        "id": "8oKUeNGe8jFp",
        "outputId": "2be1a115-edcf-44bc-e34e-5946cb008d51"
      },
      "execution_count": 6,
      "outputs": [
        {
          "output_type": "execute_result",
          "data": {
            "text/plain": [
              "794"
            ]
          },
          "metadata": {},
          "execution_count": 6
        }
      ]
    },
    {
      "cell_type": "code",
      "source": [
        "df_cars = df_cars.dropDuplicates()"
      ],
      "metadata": {
        "id": "YJD5sUca80jB"
      },
      "execution_count": 7,
      "outputs": []
    },
    {
      "cell_type": "code",
      "source": [
        "# validamos que se eliminaron todos los datos duplicados\n",
        "df_cars.count()"
      ],
      "metadata": {
        "colab": {
          "base_uri": "https://localhost:8080/"
        },
        "id": "WybAR6y79ImY",
        "outputId": "2605924d-05de-44f7-b5ab-fa9d0a213f84"
      },
      "execution_count": 8,
      "outputs": [
        {
          "output_type": "execute_result",
          "data": {
            "text/plain": [
              "406"
            ]
          },
          "metadata": {},
          "execution_count": 8
        }
      ]
    },
    {
      "cell_type": "markdown",
      "source": [
        "2. Convierte las columnas numéricas (MPG, Cylinders, Displacement, Horsepower, Weight, Acceleration) a tipos numéricos (FloatType o IntegerType según corresponda)."
      ],
      "metadata": {
        "id": "EwIsAY7UWT97"
      }
    },
    {
      "cell_type": "markdown",
      "source": [
        ".Validare primero el tipo de dato que tiene cada columna"
      ],
      "metadata": {
        "id": "wdKiHR9dTR4x"
      }
    },
    {
      "cell_type": "code",
      "source": [
        "df_cars.printSchema()"
      ],
      "metadata": {
        "colab": {
          "base_uri": "https://localhost:8080/"
        },
        "id": "pw9h_8g-TPxj",
        "outputId": "12c821eb-3a35-4193-8076-5de9b423d4e2"
      },
      "execution_count": 9,
      "outputs": [
        {
          "output_type": "stream",
          "name": "stdout",
          "text": [
            "root\n",
            " |-- Car: string (nullable = true)\n",
            " |-- MPG: string (nullable = true)\n",
            " |-- Cylinders: string (nullable = true)\n",
            " |-- Displacement: string (nullable = true)\n",
            " |-- Horsepower: string (nullable = true)\n",
            " |-- Weight: string (nullable = true)\n",
            " |-- Acceleration: string (nullable = true)\n",
            " |-- Model: string (nullable = true)\n",
            " |-- Origin: string (nullable = true)\n",
            "\n"
          ]
        }
      ]
    },
    {
      "cell_type": "code",
      "source": [
        "df_cars.show()"
      ],
      "metadata": {
        "colab": {
          "base_uri": "https://localhost:8080/"
        },
        "id": "D-YMh73eTYx7",
        "outputId": "b2ea0c1e-3f4b-48bd-cb69-51bef0cca9a0"
      },
      "execution_count": 10,
      "outputs": [
        {
          "output_type": "stream",
          "name": "stdout",
          "text": [
            "+--------------------+----+---------+------------+----------+------+------------+-----+------+\n",
            "|                 Car| MPG|Cylinders|Displacement|Horsepower|Weight|Acceleration|Model|Origin|\n",
            "+--------------------+----+---------+------------+----------+------+------------+-----+------+\n",
            "|Volkswagen Dasher...|43.4|        4|       90.00|     48.00| 2335.|        23.7|   80|Europe|\n",
            "|       Datsun 280-ZX|32.7|        6|       168.0|     132.0| 2910.|        11.4|   80| Japan|\n",
            "|  Mercedes Benz 300d|25.4|        5|       183.0|     77.00| 3530.|        20.1|   79|Europe|\n",
            "|           Mazda GLC|46.6|        4|       86.00|     65.00| 2110.|        17.9|   80| Japan|\n",
            "|    Honda Civic 1300|35.1|        4|       81.00|     60.00| 1760.|        16.1|   81| Japan|\n",
            "|           Ford F250|10.0|        8|       360.0|     215.0| 4615.|        14.0|   70|    US|\n",
            "|     Volvo 145e (sw)|18.0|        4|       121.0|     112.0| 2933.|        14.5|   72|Europe|\n",
            "|Volkswagen Super ...|26.0|        4|       97.00|     46.00| 1950.|        21.0|   73|Europe|\n",
            "|Plymouth Satellit...|18.0|        6|       225.0|     105.0| 3613.|        16.5|   74|    US|\n",
            "|   Volkswagen Rabbit|29.5|        4|       97.00|     71.00| 1825.|        12.2|   76|Europe|\n",
            "|          Audi 100LS|23.0|        4|       115.0|     95.00| 2694.|        15.0|   75|Europe|\n",
            "|          Datsun 810|22.0|        6|       146.0|     97.00| 2815.|        14.5|   77| Japan|\n",
            "|AMC Ambassador Br...|13.0|        8|       360.0|     175.0| 3821.|        11.0|   73|    US|\n",
            "|  Pontiac Grand Prix|16.0|        8|       400.0|     230.0| 4278.|        9.50|   73|    US|\n",
            "|Ford Fairmont (auto)|20.2|        6|       200.0|     85.00| 2965.|        15.8|   78|    US|\n",
            "| Volkswagen Rabbit l|36.0|        4|       105.0|     74.00| 1980.|        15.3|   82|Europe|\n",
            "|         Volvo 144ea|19.0|        4|       121.0|     112.0| 2868.|        15.5|   73|Europe|\n",
            "|      Toyota Corolla|31.0|        4|       76.00|     52.00| 1649.|        16.5|   74| Japan|\n",
            "|       Ford Maverick|24.0|        6|       200.0|     81.00| 3012.|        17.6|   76|    US|\n",
            "|          Ford Pinto|18.0|        6|       171.0|     97.00| 2984.|        14.5|   75|    US|\n",
            "+--------------------+----+---------+------------+----------+------+------------+-----+------+\n",
            "only showing top 20 rows\n",
            "\n"
          ]
        }
      ]
    },
    {
      "cell_type": "code",
      "source": [
        "from pyspark.sql.types import FloatType, IntegerType"
      ],
      "metadata": {
        "id": "pAKwS-bNUJLi"
      },
      "execution_count": 11,
      "outputs": []
    },
    {
      "cell_type": "code",
      "source": [
        "from pyspark.sql.functions import col, when"
      ],
      "metadata": {
        "id": "baNMoiSm9kAo"
      },
      "execution_count": 12,
      "outputs": []
    },
    {
      "cell_type": "code",
      "source": [
        "numerical_columns = [\"MPG\", \"Cylinders\", \"Displacement\", \"Horsepower\", \"Weight\", \"Acceleration\"]\n",
        "for column in numerical_columns:\n",
        "    df_cars = df_cars.withColumn(column, col(column).cast(FloatType()))"
      ],
      "metadata": {
        "id": "M9nw8neITa1y"
      },
      "execution_count": 13,
      "outputs": []
    },
    {
      "cell_type": "code",
      "source": [
        "df_cars = df_cars.withColumn(\"Model\", col(\"Model\").cast(IntegerType()))"
      ],
      "metadata": {
        "id": "14gbu7VHUEM5"
      },
      "execution_count": 14,
      "outputs": []
    },
    {
      "cell_type": "markdown",
      "source": [
        "Valido que los cambios se realizaron correctamente"
      ],
      "metadata": {
        "id": "gRRVQpzaUs0I"
      }
    },
    {
      "cell_type": "code",
      "source": [
        "df_cars.printSchema()"
      ],
      "metadata": {
        "colab": {
          "base_uri": "https://localhost:8080/"
        },
        "id": "6Tfe_ZW6UpSL",
        "outputId": "e73b61ca-fe7c-4e2b-f815-43774b540a5e"
      },
      "execution_count": 15,
      "outputs": [
        {
          "output_type": "stream",
          "name": "stdout",
          "text": [
            "root\n",
            " |-- Car: string (nullable = true)\n",
            " |-- MPG: float (nullable = true)\n",
            " |-- Cylinders: float (nullable = true)\n",
            " |-- Displacement: float (nullable = true)\n",
            " |-- Horsepower: float (nullable = true)\n",
            " |-- Weight: float (nullable = true)\n",
            " |-- Acceleration: float (nullable = true)\n",
            " |-- Model: integer (nullable = true)\n",
            " |-- Origin: string (nullable = true)\n",
            "\n"
          ]
        }
      ]
    },
    {
      "cell_type": "markdown",
      "source": [
        "3. Reemplaza los valores 0 de la columna MPG con null para indicar datos faltantes\n"
      ],
      "metadata": {
        "id": "nHZYJa4cVlQa"
      }
    },
    {
      "cell_type": "code",
      "source": [
        "df_cars = df_cars.withColumn(\"MPG\", when(col(\"MPG\") == 0, None).otherwise(col(\"MPG\")))"
      ],
      "metadata": {
        "id": "ceSdDliAUrS4"
      },
      "execution_count": 16,
      "outputs": []
    },
    {
      "cell_type": "markdown",
      "source": [
        "TRANSFORMACIONES"
      ],
      "metadata": {
        "id": "o25fenedW8JJ"
      }
    },
    {
      "cell_type": "markdown",
      "source": [
        "1. Agrega una columna nueva llamada Power_to_Weight que calcule la relación entre Horsepower y Weight (Horsepower / Weight)."
      ],
      "metadata": {
        "id": "UHATs6NLXQyi"
      }
    },
    {
      "cell_type": "code",
      "source": [
        "df_cars = df_cars.withColumn(\"Power_to_Weight\", df_cars.Horsepower / df_cars.Weight)"
      ],
      "metadata": {
        "id": "neYcyc0XW88K"
      },
      "execution_count": 17,
      "outputs": []
    },
    {
      "cell_type": "code",
      "source": [
        "df_cars.show(5)"
      ],
      "metadata": {
        "colab": {
          "base_uri": "https://localhost:8080/"
        },
        "id": "TxXT2lnUbpUI",
        "outputId": "fdc1ce3c-0297-4ce8-ca86-8a85fa37220d"
      },
      "execution_count": 18,
      "outputs": [
        {
          "output_type": "stream",
          "name": "stdout",
          "text": [
            "+--------------------+----+---------+------------+----------+------+------------+-----+------+--------------------+\n",
            "|                 Car| MPG|Cylinders|Displacement|Horsepower|Weight|Acceleration|Model|Origin|     Power_to_Weight|\n",
            "+--------------------+----+---------+------------+----------+------+------------+-----+------+--------------------+\n",
            "|Volkswagen Dasher...|43.4|      4.0|        90.0|      48.0|2335.0|        23.7|   80|Europe|0.020556745182012847|\n",
            "|       Datsun 280-ZX|32.7|      6.0|       168.0|     132.0|2910.0|        11.4|   80| Japan| 0.04536082474226804|\n",
            "|  Mercedes Benz 300d|25.4|      5.0|       183.0|      77.0|3530.0|        20.1|   79|Europe| 0.02181303116147309|\n",
            "|           Mazda GLC|46.6|      4.0|        86.0|      65.0|2110.0|        17.9|   80| Japan|0.030805687203791468|\n",
            "|    Honda Civic 1300|35.1|      4.0|        81.0|      60.0|1760.0|        16.1|   81| Japan| 0.03409090909090909|\n",
            "+--------------------+----+---------+------------+----------+------+------------+-----+------+--------------------+\n",
            "only showing top 5 rows\n",
            "\n"
          ]
        }
      ]
    },
    {
      "cell_type": "markdown",
      "source": [
        "2. Agrega una columna llamada Vehicle_Age que calcule cuántos años tiene el vehículo basado en el año actual (Model)."
      ],
      "metadata": {
        "id": "PisIkuRGcZvz"
      }
    },
    {
      "cell_type": "code",
      "source": [
        "from datetime import datetime"
      ],
      "metadata": {
        "id": "ALL3cfpFdVB5"
      },
      "execution_count": 19,
      "outputs": []
    },
    {
      "cell_type": "code",
      "source": [
        "from pyspark.sql.functions import lit"
      ],
      "metadata": {
        "id": "MjR_qH2Fdbjg"
      },
      "execution_count": 20,
      "outputs": []
    },
    {
      "cell_type": "code",
      "source": [
        "# obtenemos el año actual con la funcion datetime\n",
        "ano_actual = datetime.now().year"
      ],
      "metadata": {
        "id": "guxgQGp6dN13"
      },
      "execution_count": 21,
      "outputs": []
    },
    {
      "cell_type": "code",
      "source": [
        "# debemos colocar la fecha del modelo en los años 1900 y no dejarlos en 80,90,70 para hacer el calculo de manera correcta\n",
        "df_cars = df_cars.withColumn(\"Model\", when(col(\"Model\") < 100, col(\"Model\") + 1900).otherwise(col(\"Model\")))"
      ],
      "metadata": {
        "id": "MD3qu0yaeF3h"
      },
      "execution_count": 22,
      "outputs": []
    },
    {
      "cell_type": "code",
      "source": [
        "df_cars.show(5)"
      ],
      "metadata": {
        "colab": {
          "base_uri": "https://localhost:8080/"
        },
        "id": "pk7WUYEZekdR",
        "outputId": "65850899-6e10-4dcb-e1d9-0cefbd6254eb"
      },
      "execution_count": 23,
      "outputs": [
        {
          "output_type": "stream",
          "name": "stdout",
          "text": [
            "+--------------------+----+---------+------------+----------+------+------------+-----+------+--------------------+\n",
            "|                 Car| MPG|Cylinders|Displacement|Horsepower|Weight|Acceleration|Model|Origin|     Power_to_Weight|\n",
            "+--------------------+----+---------+------------+----------+------+------------+-----+------+--------------------+\n",
            "|Volkswagen Dasher...|43.4|      4.0|        90.0|      48.0|2335.0|        23.7| 1980|Europe|0.020556745182012847|\n",
            "|       Datsun 280-ZX|32.7|      6.0|       168.0|     132.0|2910.0|        11.4| 1980| Japan| 0.04536082474226804|\n",
            "|  Mercedes Benz 300d|25.4|      5.0|       183.0|      77.0|3530.0|        20.1| 1979|Europe| 0.02181303116147309|\n",
            "|           Mazda GLC|46.6|      4.0|        86.0|      65.0|2110.0|        17.9| 1980| Japan|0.030805687203791468|\n",
            "|    Honda Civic 1300|35.1|      4.0|        81.0|      60.0|1760.0|        16.1| 1981| Japan| 0.03409090909090909|\n",
            "+--------------------+----+---------+------------+----------+------+------------+-----+------+--------------------+\n",
            "only showing top 5 rows\n",
            "\n"
          ]
        }
      ]
    },
    {
      "cell_type": "code",
      "source": [
        "# uso lit ya que sera un valor constante\n",
        "df_cars = df_cars.withColumn(\"Vehicle_Age\", lit(ano_actual) - col(\"Model\").cast(\"int\"))"
      ],
      "metadata": {
        "id": "-P_Y18MWdXEQ"
      },
      "execution_count": 24,
      "outputs": []
    },
    {
      "cell_type": "code",
      "source": [
        "df_cars.show(5)"
      ],
      "metadata": {
        "colab": {
          "base_uri": "https://localhost:8080/"
        },
        "id": "tsdwc0EndiiA",
        "outputId": "0b42697e-d299-4f60-bada-bdc68de453c9"
      },
      "execution_count": 25,
      "outputs": [
        {
          "output_type": "stream",
          "name": "stdout",
          "text": [
            "+--------------------+----+---------+------------+----------+------+------------+-----+------+--------------------+-----------+\n",
            "|                 Car| MPG|Cylinders|Displacement|Horsepower|Weight|Acceleration|Model|Origin|     Power_to_Weight|Vehicle_Age|\n",
            "+--------------------+----+---------+------------+----------+------+------------+-----+------+--------------------+-----------+\n",
            "|Volkswagen Dasher...|43.4|      4.0|        90.0|      48.0|2335.0|        23.7| 1980|Europe|0.020556745182012847|         44|\n",
            "|       Datsun 280-ZX|32.7|      6.0|       168.0|     132.0|2910.0|        11.4| 1980| Japan| 0.04536082474226804|         44|\n",
            "|  Mercedes Benz 300d|25.4|      5.0|       183.0|      77.0|3530.0|        20.1| 1979|Europe| 0.02181303116147309|         45|\n",
            "|           Mazda GLC|46.6|      4.0|        86.0|      65.0|2110.0|        17.9| 1980| Japan|0.030805687203791468|         44|\n",
            "|    Honda Civic 1300|35.1|      4.0|        81.0|      60.0|1760.0|        16.1| 1981| Japan| 0.03409090909090909|         43|\n",
            "+--------------------+----+---------+------------+----------+------+------------+-----+------+--------------------+-----------+\n",
            "only showing top 5 rows\n",
            "\n"
          ]
        }
      ]
    },
    {
      "cell_type": "markdown",
      "source": [
        "3. Clasifica los valores de MPG en una nueva columna llamada Efficiency con las siguientes categorías:\n",
        "\n",
        "Low: MPG menor a 15.\n",
        "Medium: MPG entre 15 y 25.\n",
        "High: MPG mayor a 25."
      ],
      "metadata": {
        "id": "znEJOTGYcbHH"
      }
    },
    {
      "cell_type": "code",
      "source": [
        "df_cars = df_cars.withColumn(\"Efficiency\",\n",
        "                             when(col(\"MPG\") < 15, \"Low\")\n",
        "                            .when((col(\"MPG\") > 15) & (col(\"MPG\") <= 25), \"Medium\")\n",
        "                            .otherwise(\"high\")\n",
        "                            )"
      ],
      "metadata": {
        "id": "q1dz_WR5fUeZ"
      },
      "execution_count": 26,
      "outputs": []
    },
    {
      "cell_type": "code",
      "source": [
        "df_cars.show(5)"
      ],
      "metadata": {
        "colab": {
          "base_uri": "https://localhost:8080/"
        },
        "id": "vIp-dDpSiyAT",
        "outputId": "5a1b223c-2bde-40a5-a043-c9aa960f5aa1"
      },
      "execution_count": 27,
      "outputs": [
        {
          "output_type": "stream",
          "name": "stdout",
          "text": [
            "+--------------------+----+---------+------------+----------+------+------------+-----+------+--------------------+-----------+----------+\n",
            "|                 Car| MPG|Cylinders|Displacement|Horsepower|Weight|Acceleration|Model|Origin|     Power_to_Weight|Vehicle_Age|Efficiency|\n",
            "+--------------------+----+---------+------------+----------+------+------------+-----+------+--------------------+-----------+----------+\n",
            "|Volkswagen Dasher...|43.4|      4.0|        90.0|      48.0|2335.0|        23.7| 1980|Europe|0.020556745182012847|         44|      high|\n",
            "|       Datsun 280-ZX|32.7|      6.0|       168.0|     132.0|2910.0|        11.4| 1980| Japan| 0.04536082474226804|         44|      high|\n",
            "|  Mercedes Benz 300d|25.4|      5.0|       183.0|      77.0|3530.0|        20.1| 1979|Europe| 0.02181303116147309|         45|      high|\n",
            "|           Mazda GLC|46.6|      4.0|        86.0|      65.0|2110.0|        17.9| 1980| Japan|0.030805687203791468|         44|      high|\n",
            "|    Honda Civic 1300|35.1|      4.0|        81.0|      60.0|1760.0|        16.1| 1981| Japan| 0.03409090909090909|         43|      high|\n",
            "+--------------------+----+---------+------------+----------+------+------------+-----+------+--------------------+-----------+----------+\n",
            "only showing top 5 rows\n",
            "\n"
          ]
        }
      ]
    },
    {
      "cell_type": "markdown",
      "source": [
        "ANALISIS DE DATOS"
      ],
      "metadata": {
        "id": "q5_h1RmojWZY"
      }
    },
    {
      "cell_type": "markdown",
      "source": [
        "\n",
        "1. Obtén el promedio de MPG por región (Origin)."
      ],
      "metadata": {
        "id": "psZXW_tCjVBN"
      }
    },
    {
      "cell_type": "code",
      "source": [
        "from pyspark.sql.functions import avg"
      ],
      "metadata": {
        "id": "_PeQxgGrmTM5"
      },
      "execution_count": 28,
      "outputs": []
    },
    {
      "cell_type": "code",
      "source": [
        "df_avg_mpg = df_cars.groupBy(\"Origin\").agg(avg(\"MPG\").alias(\"Average_MPG\"))"
      ],
      "metadata": {
        "id": "e5fUr_pJjYFq"
      },
      "execution_count": 29,
      "outputs": []
    },
    {
      "cell_type": "code",
      "source": [
        "df_avg_mpg.show()"
      ],
      "metadata": {
        "colab": {
          "base_uri": "https://localhost:8080/"
        },
        "id": "f_hflcxjl5tp",
        "outputId": "1e21be75-632a-4021-8223-dc195c6c47bd"
      },
      "execution_count": 30,
      "outputs": [
        {
          "output_type": "stream",
          "name": "stdout",
          "text": [
            "+------+------------------+\n",
            "|Origin|       Average_MPG|\n",
            "+------+------------------+\n",
            "|Europe| 27.89142859322684|\n",
            "|    US| 20.08353414880224|\n",
            "| Japan|30.450632843790174|\n",
            "+------+------------------+\n",
            "\n"
          ]
        }
      ]
    },
    {
      "cell_type": "markdown",
      "source": [
        "2. Obtén el vehículo con el mejor MPG por cada región."
      ],
      "metadata": {
        "id": "BLjcv5h1msVi"
      }
    },
    {
      "cell_type": "code",
      "source": [
        "from pyspark.sql.window import Window\n",
        "from pyspark.sql.functions import col, row_number"
      ],
      "metadata": {
        "id": "-MW8bUVxoj1f"
      },
      "execution_count": 31,
      "outputs": []
    },
    {
      "cell_type": "code",
      "source": [
        "# Definir una ventana que ordene \"MPG\"\n",
        "window_spec = Window.partitionBy(\"Origin\").orderBy(col(\"MPG\").desc())\n",
        "\n",
        "# Agregar una columna con el numero de fila dentro de cada grupo\n",
        "df_with_rank = df_cars.withColumn(\"rank\", row_number().over(window_spec))\n",
        "\n",
        "# Filtrar solo las filas con el mejor MPG (rank == 1)\n",
        "df_best_car = df_with_rank.filter(col(\"rank\") == 1).drop(\"rank\")\n"
      ],
      "metadata": {
        "id": "oaKQ48G6mtXw"
      },
      "execution_count": 37,
      "outputs": []
    },
    {
      "cell_type": "code",
      "source": [
        "df_best_car.show()"
      ],
      "metadata": {
        "colab": {
          "base_uri": "https://localhost:8080/"
        },
        "id": "vbZBpk4Poo7d",
        "outputId": "35f84f6a-f834-4e61-a747-fd2b89102f3c"
      },
      "execution_count": 38,
      "outputs": [
        {
          "output_type": "stream",
          "name": "stdout",
          "text": [
            "+--------------------+----+---------+------------+----------+------+------------+-----+------+--------------------+-----------+----------+\n",
            "|                 Car| MPG|Cylinders|Displacement|Horsepower|Weight|Acceleration|Model|Origin|     Power_to_Weight|Vehicle_Age|Efficiency|\n",
            "+--------------------+----+---------+------------+----------+------+------------+-----+------+--------------------+-----------+----------+\n",
            "|Volkswagen Rabbit...|44.3|      4.0|        90.0|      48.0|2085.0|        21.7| 1980|Europe| 0.02302158273381295|         44|      high|\n",
            "|           Mazda GLC|46.6|      4.0|        86.0|      65.0|2110.0|        17.9| 1980| Japan|0.030805687203791468|         44|      high|\n",
            "|      Plymouth Champ|39.0|      4.0|        86.0|      64.0|1875.0|        16.4| 1981|    US|0.034133333333333335|         43|      high|\n",
            "+--------------------+----+---------+------------+----------+------+------------+-----+------+--------------------+-----------+----------+\n",
            "\n"
          ]
        }
      ]
    },
    {
      "cell_type": "markdown",
      "source": [
        "3. Agrupa los datos por Cylinders y calcula:\n",
        "\n",
        "El promedio de Horsepower.\n",
        "\n",
        "El peso promedio."
      ],
      "metadata": {
        "id": "EKyNa_X7or1W"
      }
    },
    {
      "cell_type": "code",
      "source": [
        "df_grouped = df_cars.groupBy(\"Cylinders\") \\\n",
        "  .agg(\n",
        "    avg(\"Horsepower\").alias(\"avg_Horsepower\"),\n",
        "    avg(\"Weight\").alias(\"avg_Weight\")\n",
        ")"
      ],
      "metadata": {
        "id": "Zo7Znb6Qoiw1"
      },
      "execution_count": 39,
      "outputs": []
    },
    {
      "cell_type": "code",
      "source": [
        "df_grouped.show()"
      ],
      "metadata": {
        "id": "KKsvhgWWpY-6",
        "outputId": "67fa5e27-2740-4bd7-ac91-0342ace3c0ee",
        "colab": {
          "base_uri": "https://localhost:8080/"
        }
      },
      "execution_count": 40,
      "outputs": [
        {
          "output_type": "stream",
          "name": "stdout",
          "text": [
            "+---------+------------------+------------------+\n",
            "|Cylinders|    avg_Horsepower|        avg_Weight|\n",
            "+---------+------------------+------------------+\n",
            "|      5.0| 82.33333333333333|3103.3333333333335|\n",
            "|      3.0|             99.25|            2398.5|\n",
            "|      6.0|100.29761904761905|3198.2261904761904|\n",
            "|      8.0| 158.4537037037037| 4105.194444444444|\n",
            "|      4.0| 76.57487922705315| 2312.685990338164|\n",
            "+---------+------------------+------------------+\n",
            "\n"
          ]
        }
      ]
    },
    {
      "cell_type": "markdown",
      "source": [
        "GUARDAR RESULTADOS"
      ],
      "metadata": {
        "id": "FFFKmKs9pIk-"
      }
    },
    {
      "cell_type": "markdown",
      "source": [
        "Guarda los resultados de los ejercicios anteriores en un archivo CSV:\n",
        "\n",
        "Guarda el DataFrame limpio en un archivo llamado cleaned_cars.csv.\n",
        "\n",
        "Guarda los análisis de MPG por región y los vehículos con mejor MPG en un archivo llamado analysis_results.csv."
      ],
      "metadata": {
        "id": "ot0s2U3VpJiN"
      }
    },
    {
      "cell_type": "code",
      "source": [
        "df_cars.write \\\n",
        "    .option(\"header\", \"true\") \\\n",
        "    .csv(\"./cleaned_cars.csv\")"
      ],
      "metadata": {
        "id": "pK0D7S4WpLWT"
      },
      "execution_count": 46,
      "outputs": []
    },
    {
      "cell_type": "code",
      "source": [
        "df_avg_mpg.write \\\n",
        "    .option(\"header\", \"true\") \\\n",
        "    .csv(\"./analysis_results_mpg_by_region.csv\")\n",
        "\n",
        "df_best_car.write \\\n",
        "    .option(\"header\", \"true\") \\\n",
        "    .csv(\"./analysis_results_best_cars.csv\")"
      ],
      "metadata": {
        "id": "IZER1nsbqM79"
      },
      "execution_count": 47,
      "outputs": []
    }
  ]
}